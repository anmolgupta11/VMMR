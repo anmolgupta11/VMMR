{
 "cells": [
  {
   "cell_type": "markdown",
   "metadata": {},
   "source": [
    "# Model Analysis"
   ]
  },
  {
   "cell_type": "code",
   "execution_count": null,
   "metadata": {
    "collapsed": true
   },
   "outputs": [],
   "source": [
    "from keras.models import load_model\n",
    "model = load_model('top_layers.iv3.hdf5')"
   ]
  },
  {
   "cell_type": "code",
   "execution_count": null,
   "metadata": {},
   "outputs": [],
   "source": [
    "from keras.preprocessing.image import ImageDataGenerator\n",
    "from keras.applications.inception_v3 import preprocess_input\n",
    "#Test DataSet Generator with Augmentation\n",
    "test_generator = ImageDataGenerator(preprocessing_function=preprocess_input)\n",
    "test_flow = test_generator.flow_from_directory(\n",
    "    '../Dataset/test',\n",
    "    shuffle=False,\n",
    "    target_size=(299, 299),\n",
    "    batch_size = 32\n",
    ")"
   ]
  },
  {
   "cell_type": "code",
   "execution_count": null,
   "metadata": {
    "collapsed": true
   },
   "outputs": [],
   "source": [
    "import math\n",
    "import numpy as np\n",
    "predictions = model.predict_generator(\n",
    "    test_flow,\n",
    "    verbose=1,\n",
    "    steps=math.ceil(test_flow.samples/test_flow.batch_size))\n",
    "predicted_classes = np.argmax(predictions, axis=1) \n",
    "\n",
    "true_classes = test_flow.classes\n",
    "class_labels = list(test_flow.class_indices.keys())  "
   ]
  },
  {
   "cell_type": "code",
   "execution_count": null,
   "metadata": {
    "collapsed": true
   },
   "outputs": [],
   "source": [
    "import matplotlib.pyplot as plt\n",
    "%matplotlib inline  \n",
    "import scikitplot as skplt\n",
    "\n",
    "[print(k, \":\", v) for k,v in enumerate(class_labels)]\n",
    "true_map_classes = [class_labels[x] for x in true_classes]\n",
    "predicted_map_classes = [class_labels[x] for x in predicted_classes]\n",
    "\n",
    "skplt.metrics.plot_confusion_matrix(\n",
    "    true_map_classes, \n",
    "    predicted_map_classes,\n",
    "    labels=class_labels,\n",
    "    x_tick_rotation=90,\n",
    "    figsize=(12,12))"
   ]
  },
  {
   "cell_type": "code",
   "execution_count": null,
   "metadata": {
    "collapsed": true
   },
   "outputs": [],
   "source": [
    "from sklearn.metrics import classification_report\n",
    "report = classification_report(\n",
    "    true_classes,\n",
    "    predicted_classes,\n",
    "    target_names=class_labels)\n",
    "print(report)"
   ]
  },
  {
   "cell_type": "code",
   "execution_count": null,
   "metadata": {
    "collapsed": true
   },
   "outputs": [],
   "source": [
    "skplt.metrics.plot_precision_recall(\n",
    "    true_classes,\n",
    "    predictions,\n",
    "    figsize=(12,12))"
   ]
  },
  {
   "cell_type": "code",
   "execution_count": null,
   "metadata": {
    "collapsed": true
   },
   "outputs": [],
   "source": [
    "skplt.metrics.plot_roc(\n",
    "    true_classes,\n",
    "    predictions,\n",
    "    figsize=(12,12))"
   ]
  }
 ],
 "metadata": {
  "kernelspec": {
   "display_name": "Python (intel_dc2edge)",
   "language": "python",
   "name": "intel_dc2edge"
  },
  "language_info": {
   "codemirror_mode": {
    "name": "ipython",
    "version": 3
   },
   "file_extension": ".py",
   "mimetype": "text/x-python",
   "name": "python",
   "nbconvert_exporter": "python",
   "pygments_lexer": "ipython3",
   "version": "3.7.0"
  }
 },
 "nbformat": 4,
 "nbformat_minor": 2
}
